{
 "cells": [
  {
   "cell_type": "code",
   "execution_count": null,
   "id": "a319ec15-377a-4abe-8869-5311bbaba184",
   "metadata": {},
   "outputs": [],
   "source": [
    "# https://www.chatpdf.com/docs/api/backend\n",
    "\n",
    "# add via URL\n",
    "\n",
    "# import requests\n",
    "\n",
    "# headers = {\n",
    "#   'x-api-key': my_api_key,\n",
    "#   'Content-Type': 'application/json'\n",
    "# }\n",
    "# data = {'url': 'https://api.chatpdf.com/v1'}\n",
    "\n",
    "# response = requests.post(\n",
    "#     'https://api.chatpdf.com/v1/sources/add-url', headers=headers, json=data)\n",
    "\n",
    "# if response.status_code == 200:\n",
    "#     print('Source ID:', response.json()['sourceId'])\n",
    "# else:\n",
    "#     print('Status:', response.status_code)\n",
    "#     print('Error:', response.text)"
   ]
  },
  {
   "cell_type": "code",
   "execution_count": 7,
   "id": "2b11bb1f-0f9d-4bff-927d-8a7ab6ef4045",
   "metadata": {},
   "outputs": [
    {
     "name": "stderr",
     "output_type": "stream",
     "text": [
      "100%|██████████| 2/2 [00:06<00:00,  3.08s/it]\n"
     ]
    }
   ],
   "source": [
    "# convert docx to pdf\n",
    "\n",
    "from tqdm import tqdm\n",
    "import subprocess\n",
    "import os\n",
    "\n",
    "# 현재 작업 디렉토리에 있는 docx를 pdf로 변환\n",
    "docx_files = [i for i in os.listdir(os.getcwd()) if \".docx\" in i]\n",
    "\n",
    "for docx_path in tqdm(docx_files):\n",
    "    doc = docx_path\n",
    "    cmd = 'libreoffice --convert-to pdf'.split() + [doc]\n",
    "    p = subprocess.Popen(cmd, stderr=subprocess.PIPE, stdout=subprocess.PIPE)\n",
    "    p.wait(timeout=10)\n",
    "    stdout, stderr = p.communicate()"
   ]
  },
  {
   "cell_type": "code",
   "execution_count": 1,
   "id": "383a1da2-4fb3-401b-8c1c-9bd3f29efa9a",
   "metadata": {},
   "outputs": [],
   "source": [
    "import os\n",
    "import requests\n",
    "\n",
    "my_api_key = 'sec_Ba57nujoHbk1MUpVhZyKUWWWJNWCyGC3'"
   ]
  },
  {
   "cell_type": "code",
   "execution_count": 2,
   "id": "84085de4-4080-47cf-9683-e0664ad2e815",
   "metadata": {},
   "outputs": [],
   "source": [
    "# pdf_files = [i for i in os.listdir(os.getcwd()) if \".pdf\" in i]\n",
    "# print(pdf_files)\n",
    "\n",
    "pdf_path = \"쿠팡 FAQ 테스트 문서.pdf\""
   ]
  },
  {
   "cell_type": "code",
   "execution_count": 3,
   "id": "5d132fa4-20fa-4aef-8296-850969ec308b",
   "metadata": {},
   "outputs": [
    {
     "name": "stdout",
     "output_type": "stream",
     "text": [
      "Source ID: src_SdabFawG4hyZ44aDU1Nv9\n"
     ]
    }
   ],
   "source": [
    "# add PDF via File Upload\n",
    "\n",
    "files = [\n",
    "    ('file', ('file', open(pdf_path, 'rb'), 'application/octet-stream'))\n",
    "]\n",
    "headers = {\n",
    "    'x-api-key': my_api_key\n",
    "}\n",
    "\n",
    "response = requests.post(\n",
    "    'https://api.chatpdf.com/v1/sources/add-file', headers=headers, files=files)\n",
    "\n",
    "if response.status_code == 200:\n",
    "    print('Source ID:', response.json()['sourceId'])\n",
    "    source_id = response.json()['sourceId']\n",
    "else:\n",
    "    print('Status:', response.status_code)\n",
    "    print('Error:', response.text)"
   ]
  },
  {
   "cell_type": "code",
   "execution_count": 4,
   "id": "302b8cc7-4791-413f-86a0-bc5ff6e797a2",
   "metadata": {},
   "outputs": [
    {
     "name": "stdout",
     "output_type": "stream",
     "text": [
      "input_text: 상품이 파손된 경우.\n",
      "Result: If a product is damaged during delivery, it is possible to exchange or return it within a certain period of time. You can apply for exchange or return directly through My Coupang or contact the customer center if you cannot apply.\n"
     ]
    }
   ],
   "source": [
    "# chat with pdf\n",
    "\n",
    "question = \"상품이 파손된 경우.\"\n",
    "\n",
    "headers = {\n",
    "    'x-api-key': my_api_key,\n",
    "    \"Content-Type\": \"application/json\",\n",
    "}\n",
    "\n",
    "data = {\n",
    "    'sourceId': source_id,\n",
    "    'messages': [\n",
    "        {\n",
    "            'role': \"user\",\n",
    "            'content': question\n",
    "        }\n",
    "    ]\n",
    "}\n",
    "\n",
    "response = requests.post(\n",
    "    'https://api.chatpdf.com/v1/chats/message', headers=headers, json=data)\n",
    "\n",
    "if response.status_code == 200:\n",
    "    print(\"input_text:\", question)\n",
    "    print('Result:', response.json()['content'])\n",
    "else:\n",
    "    print('Status:', response.status_code)\n",
    "    print('Error:', response.text)"
   ]
  },
  {
   "cell_type": "code",
   "execution_count": null,
   "id": "63e2ad4d-c044-4d17-9813-e614da485d15",
   "metadata": {},
   "outputs": [],
   "source": [
    "# delete pdf\n",
    "\n",
    "# import requests\n",
    "\n",
    "# headers = {\n",
    "#   'x-api-key': my_api_key,\n",
    "#   'Content-Type': 'application/json',\n",
    "# }\n",
    "\n",
    "# data = {\n",
    "#   'sources': ['src_xxxxxx'],\n",
    "# }\n",
    "\n",
    "# try:\n",
    "#     response = requests.post(\n",
    "#     'https://api.chatpdf.com/v1/sources/delete', json=data, headers=headers)\n",
    "#     response.raise_for_status()\n",
    "#     print('Success')\n",
    "# except requests.exceptions.RequestException as error:\n",
    "#     print('Error:', error)\n",
    "#     print('Response:', error.response.text)"
   ]
  }
 ],
 "metadata": {
  "kernelspec": {
   "display_name": "seunghoon",
   "language": "python",
   "name": "seunghoon"
  },
  "language_info": {
   "codemirror_mode": {
    "name": "ipython",
    "version": 3
   },
   "file_extension": ".py",
   "mimetype": "text/x-python",
   "name": "python",
   "nbconvert_exporter": "python",
   "pygments_lexer": "ipython3",
   "version": "3.8.17"
  }
 },
 "nbformat": 4,
 "nbformat_minor": 5
}
